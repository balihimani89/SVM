{
 "cells": [
  {
   "cell_type": "code",
   "execution_count": 1,
   "id": "d22b4574-1114-42dc-a856-e92a3410c5da",
   "metadata": {},
   "outputs": [
    {
     "name": "stderr",
     "output_type": "stream",
     "text": [
      "[nltk_data] Downloading package punkt to\n",
      "[nltk_data]     C:\\Users\\Lenovo\\AppData\\Roaming\\nltk_data...\n",
      "[nltk_data]   Package punkt is already up-to-date!\n"
     ]
    }
   ],
   "source": [
    "import pandas as pd\n",
    "import dask.bag as bag\n",
    "import dask.dataframe as dd\n",
    "import ast\n",
    "from nltk.tokenize import word_tokenize\n",
    "from contractions import contractions_dict  # your custom contraction dictionary\n",
    "import nltk\n",
    "nltk.download('punkt')\n",
    "\n",
    "\n",
    "\n",
    "\n",
    "# ========================\n",
    "# 📂 Load CSV (adjust path\n",
    "\n",
    "raw_text = bag.read_text(\"foods.txt\",encoding='cp1252')"
   ]
  },
  {
   "cell_type": "markdown",
   "id": "e5688ba1-5aa5-4bb1-9339-843f08dd9932",
   "metadata": {},
   "source": [
    "## DATA PREPERATION ##"
   ]
  },
  {
   "cell_type": "code",
   "execution_count": 2,
   "id": "56149d11-44b9-47d0-bd96-0cadb936f356",
   "metadata": {},
   "outputs": [
    {
     "data": {
      "text/plain": [
       "('product/productId: B001E4KFG0\\n',\n",
       " 'review/userId: A3SGXH7AUHU8GW\\n',\n",
       " 'review/profileName: delmartian\\n',\n",
       " 'review/helpfulness: 1/1\\n',\n",
       " 'review/score: 5.0\\n',\n",
       " 'review/time: 1303862400\\n',\n",
       " 'review/summary: Good Quality Dog Food\\n',\n",
       " 'review/text: I have bought several of the Vitality canned dog food products and have found them all to be of good quality. The product looks more like a stew than a processed meat and it smells better. My Labrador is finicky and she appreciates this product better than  most.\\n',\n",
       " '\\n',\n",
       " 'product/productId: B00813GRG4\\n',\n",
       " 'review/userId: A1D87F6ZCVE5NK\\n',\n",
       " 'review/profileName: dll pa\\n',\n",
       " 'review/helpfulness: 0/0\\n',\n",
       " 'review/score: 1.0\\n',\n",
       " 'review/time: 1346976000\\n',\n",
       " 'review/summary: Not as Advertised\\n',\n",
       " 'review/text: Product arrived labeled as Jumbo Salted Peanuts...the peanuts were actually small sized unsalted. Not sure if this was an error or if the vendor intended to represent the product as \"Jumbo\".\\n',\n",
       " '\\n',\n",
       " 'product/productId: B000LQOCH0\\n',\n",
       " 'review/userId: ABXLMWJIXXAIN\\n')"
      ]
     },
     "execution_count": 2,
     "metadata": {},
     "output_type": "execute_result"
    }
   ],
   "source": [
    "raw_text.take(20)"
   ]
  },
  {
   "cell_type": "code",
   "execution_count": 3,
   "id": "66b01500-04a4-4ed4-a2d9-4555adc72c8c",
   "metadata": {},
   "outputs": [],
   "source": [
    "from dask.delayed import delayed"
   ]
  },
  {
   "cell_type": "code",
   "execution_count": 4,
   "id": "86740150-6219-4dbe-b7d0-9fa6ad80c109",
   "metadata": {},
   "outputs": [],
   "source": [
    "def get_next_buffer_part(file,start_index,span_index=0,blocksize=1000):\n",
    "    file.seek(start_index)\n",
    "    buffer = file.read(blocksize + span_index).decode('cp1252')\n",
    "    delimeter_position = buffer.find('\\n\\n')\n",
    "    if delimeter_position == -1:\n",
    "        return get_next_buffer_part(file,start_index,span_index+blocksize)\n",
    "    else:\n",
    "        file.seek(start_index)\n",
    "        return start_index,delimeter_position"
   ]
  },
  {
   "cell_type": "code",
   "execution_count": 5,
   "id": "3066d2fb-6e13-4592-8c91-8285d7fc496b",
   "metadata": {},
   "outputs": [],
   "source": [
    "with open(\"foods.txt\",\"rb\") as file_handle:\n",
    "    size = file_handle.seek(0,2) - 1       #Get the total size of the file in bytes\n",
    "    more_data = True                     \n",
    "    output = list()\n",
    "    current_position = next_position = 0\n",
    "    while more_data:\n",
    "        if current_position >= size:\n",
    "            more_data = False\n",
    "        else:\n",
    "            current_position,next_position = get_next_buffer_part(file_handle,current_position,0)\n",
    "            output.append((current_position,next_position))\n",
    "            current_position = current_position + next_position + 2"
   ]
  },
  {
   "cell_type": "code",
   "execution_count": 6,
   "id": "03ab7c1f-f163-46a6-9fec-23c2f88d516c",
   "metadata": {},
   "outputs": [],
   "source": [
    "def get_dict_item(filename,start_index,delimeter_position,encoding='cp1252'):\n",
    "    with open(filename,\"rb\") as file_handle:\n",
    "        file_handle.seek(start_index)\n",
    "        text = file_handle.read(delimeter_position).decode(encoding)\n",
    "        elements = text.strip().split(\"\\n\")\n",
    "        key_value_pairs = [(element.split(\": \")[0], element.split(\": \")[1])\n",
    "                          if len(element.split(\": \")) > 1\n",
    "                          else (\"unknown\",element)\n",
    "                          for element in elements]\n",
    "        return dict(key_value_pairs)"
   ]
  },
  {
   "cell_type": "code",
   "execution_count": 7,
   "id": "2d1f3ef7-a464-498f-a6bb-0fbf499048e7",
   "metadata": {},
   "outputs": [
    {
     "name": "stdout",
     "output_type": "stream",
     "text": [
      "({'product/productId': 'B001E4KFG0', 'review/userId': 'A3SGXH7AUHU8GW', 'review/profileName': 'delmartian', 'review/helpfulness': '1/1', 'review/score': '5.0', 'review/time': '1303862400', 'review/summary': 'Good Quality Dog Food', 'review/text': 'I have bought several of the Vitality canned dog food products and have found them all to be of good quality. The product looks more like a stew than a processed meat and it smells better. My Labrador is finicky and she appreciates this product better than  most.'}, {'product/productId': 'B00813GRG4', 'review/userId': 'A1D87F6ZCVE5NK', 'review/profileName': 'dll pa', 'review/helpfulness': '0/0', 'review/score': '1.0', 'review/time': '1346976000', 'review/summary': 'Not as Advertised', 'review/text': 'Product arrived labeled as Jumbo Salted Peanuts...the peanuts were actually small sized unsalted. Not sure if this was an error or if the vendor intended to represent the product as \"Jumbo\".'}, {'product/productId': 'B000LQOCH0', 'review/userId': 'ABXLMWJIXXAIN', 'review/profileName': 'Natalia Corres \"Natalia Corres\"', 'review/helpfulness': '1/1', 'review/score': '4.0', 'review/time': '1219017600', 'review/summary': '\"Delight\" says it all', 'review/text': 'This is a confection that has been around a few centuries.  It is a light, pillowy citrus gelatin with nuts - in this case Filberts. And it is cut into tiny squares and then liberally coated with powdered sugar.  And it is a tiny mouthful of heaven.  Not too chewy, and very flavorful.  I highly recommend this yummy treat.  If you are familiar with the story of C.S. Lewis\\' \"The Lion, The Witch, and The Wardrobe\" - this is the treat that seduces Edmund into selling out his Brother and Sisters to the Witch.'}, {'product/productId': 'B000UA0QIQ', 'review/userId': 'A395BORC6FGVXV', 'review/profileName': 'Karl', 'review/helpfulness': '3/3', 'review/score': '2.0', 'review/time': '1307923200', 'review/summary': 'Cough Medicine', 'review/text': 'If you are looking for the secret ingredient in Robitussin I believe I have found it.  I got this in addition to the Root Beer Extract I ordered (which was good) and made some cherry soda.  The flavor is very medicinal.'}, {'product/productId': 'B006K2ZZ7K', 'review/userId': 'A1UQRSCLF8GW1T', 'review/profileName': 'Michael D. Bigham \"M. Wassir\"', 'review/helpfulness': '0/0', 'review/score': '5.0', 'review/time': '1350777600', 'review/summary': 'Great taffy', 'review/text': 'Great taffy at a great price.  There was a wide assortment of yummy taffy.  Delivery was very quick.  If your a taffy lover, this is a deal.'})\n"
     ]
    }
   ],
   "source": [
    "reviews = bag.from_sequence(output).map(lambda x: get_dict_item(\"foods.txt\",x[0],x[1]))\n",
    "print(reviews.take(5))"
   ]
  },
  {
   "cell_type": "code",
   "execution_count": 8,
   "id": "a36468a2-b647-43fe-84b8-0cecfb59d962",
   "metadata": {},
   "outputs": [
    {
     "name": "stdout",
     "output_type": "stream",
     "text": [
      "(5.0, 1.0, 4.0, 2.0, 5.0)\n"
     ]
    }
   ],
   "source": [
    "def fetch_scores(element):\n",
    "    numeric_score = float(element['review/score'])\n",
    "    return numeric_score\n",
    "review_scores = reviews.map(fetch_scores)\n",
    "print(review_scores.take(5))"
   ]
  },
  {
   "cell_type": "code",
   "execution_count": 9,
   "id": "c6f690a3-2c9a-491a-8627-4dc39deb5b50",
   "metadata": {},
   "outputs": [],
   "source": [
    "def tag_reviews(element):\n",
    "    if float(element['review/score']) > 3:\n",
    "        element['review/score'] = 'pos'\n",
    "    else:\n",
    "        element['review/score'] = 'neg'\n",
    "    return element\n",
    "reviews = reviews.map(tag_reviews)"
   ]
  },
  {
   "cell_type": "code",
   "execution_count": 10,
   "id": "5e212a9e-314b-46a0-9467-482de2de4eb2",
   "metadata": {},
   "outputs": [
    {
     "name": "stdout",
     "output_type": "stream",
     "text": [
      "['1/1', '0/0', '3/3', '4/4', '2/2', '4/5', '0/1', '19/19', '13/13', '9/9', '1/2', '0/7', '2/4', '0/2', '15/15', '5/5', '2/3', '2/8', '17/19', '0/4', '5/6', '8/8', '6/6', '3/4', '1/3', '0/3', '3/10', '1/4', '1/9', '3/7', '6/8', '7/8', '6/7', '1/5', '5/19', '7/7', '3/5', '5/7', '7/13', '0/6', '4/7', '43/47', '13/15', '14/17', '11/14', '20/27', '3/6', '4/8', '2/5', '2/6', '3/8', '2/7', '0/5', '1/7', '7/9', '27/27', '12/12', '1/8', '6/10', '5/10', '10/12', '9/10', '16/17', '12/13', '11/11', '7/10', '4/6', '5/11', '8/12', '8/9', '21/21', '26/31', '19/21', '13/14', '10/11', '15/18', '10/10', '11/12', '14/14', '11/13', '2/19', '16/18', '23/23', '0/18', '165/168', '45/46', '30/30', '100/133', '5/16', '1/10', '5/27', '6/9', '32/36', '24/27', '22/25', '18/26', '5/8', '6/11', '5/12', '11/24', '4/12', '2/9', '14/21', '17/17', '18/22', '13/16', '9/11', '9/12', '6/14', '1/6', '27/29', '15/17', '4/17', '7/11', '5/15', '20/20', '20/22', '0/8', '22/27', '22/23', '8/10', '6/12', '9/14', '7/12', '3/9', '17/18', '59/64', '187/216', '24/25', '16/16', '21/23', '12/15', '11/17', '4/14', '0/26', '23/24', '1/11', '2/15', '9/17', '32/33', '22/22', '4/11', '1/14', '8/11', '2/11', '29/30', '8/14', '4/16', '112/112', '107/108', '51/51', '36/37', '18/21', '25/31', '25/39', '5/9', '7/16', '8/20', '16/20', '10/13', '12/18', '7/25', '7/14', '2/13', '4/9', '9/16', '8/15', '8/17', '17/36', '3/13', '3/15', '7/27', '88/89', '35/35', '25/25', '38/43', '0/9', '22/24', '4/21', '2/14', '42/42', '70/74', '43/51', '6/15', '86/89', '26/36', '1/17', '3/11', '0/15', '48/49', '36/36', '34/34', '4/15', '4/13', '14/28', '18/19', '5/18', '30/35', '24/24', '11/16', '23/25', '48/53', '2/10', '19/20', '15/16', '96/96', '53/58', '29/35', '19/22', '27/33', '17/20', '9/15', '8/18', '27/28', '20/21', '27/30', '1/12', '0/21', '40/41', '18/18', '6/16', '26/26', '14/15', '7/15', '31/31', '18/20', '25/26', '12/14', '0/19', '7/21', '6/25', '65/65', '38/41', '29/31', '20/23', '1/15', '128/130', '97/100', '82/84', '36/38', '37/40', '23/26', '8/13', '3/32', '38/48', '18/24', '12/17', '10/15', '4/10', '9/20', '2/30', '0/10', '31/33', '28/31', '17/25', '21/22', '1/24', '26/29', '31/35', '29/29', '28/28', '5/13', '6/20', '2/26', '4/33', '202/219', '47/51', '15/41', '37/42', '21/25', '13/21', '149/155', '80/83', '77/85', '29/33', '0/11', '10/14', '6/26', '1/18', '24/30', '17/21', '6/29', '2/27', '12/16', '9/33', '3/21', '7/20', '69/72', '2/12', '17/22', '32/35', '3/18', '56/56', '1/22', '39/51', '17/24', '2/18', '11/15', '59/63', '111/128', '14/16', '20/24', '60/79', '31/47', '15/26', '7/17', '9/22', '17/49', '23/76', '10/55', '11/68', '9/13', '66/66', '44/44', '13/20', '2/16', '26/27', '91/94', '56/59', '10/16', '11/22', '115/117', '93/94', '180/188', '129/134', '58/59', '39/39', '22/36', '29/49', '7/35', '2/28', '26/30', '91/92', '83/84', '53/57', '45/57', '0/40', '0/14', '25/33', '13/17', '19/23', '26/28', '55/57', '60/71', '16/34', '62/63', '28/29', '69/79', '30/34', '17/23', '19/27', '4/20', '91/98', '89/90', '18/23', '3/17', '51/53', '50/53', '33/34', '12/20', '11/19', '9/19', '24/47', '44/45', '13/18', '135/135', '71/71', '157/170', '24/26', '29/37', '0/12', '42/43', '5/14', '73/77', '33/35', '45/52', '10/23', '83/83', '122/123', '33/33', '44/51', '38/38', '3/12', '34/35', '0/13', '65/66', '19/26', '15/22', '19/30', '31/48', '30/31', '1/19', '7/19', '50/50', '34/41', '90/93', '81/88', '14/22', '8/23', '35/41', '16/28', '112/122', '35/36', '6/13', '5/23', '32/39', '15/19', '12/24', '9/31', '4/22', '203/212', '168/192', '31/34', '1/21', '64/66', '30/33', '23/35', '1/13', '30/32', '3/22', '112/120', '48/51', '21/24', '15/21', '6/27', '26/32', '27/35', '14/18', '61/64', '50/52', '25/27', '5/58', '5/30', '0/27', '29/36', '12/21', '8/39', '5/17', '398/401', '206/209', '133/134', '38/42', '33/41', '23/28', '19/25', '64/64', '90/95', '3/14', '34/36', '30/94', '1/37', '41/42', '5/24', '84/86', '32/32', '35/38', '25/32', '19/31', '38/39', '42/49', '4/28', '6/24', '3/38', '3/36', '21/29', '1/32', '13/19', '97/99', '18/34', '28/72', '39/40', '21/26', '2/33', '40/43', '71/73', '59/65', '59/59', '58/60', '16/51', '63/63', '3/19', '10/31', '95/99', '4/19', '16/19', '8/25', '88/95', '2/22', '1/27', '6/18', '38/44', '3/2', '4/35', '5/20', '53/60', '3/16', '31/32', '20/25', '16/25', '7/23', '68/73', '110/124', '31/41', '20/33', '13/24', '11/21', '57/58', '72/73', '15/20', '16/21', '40/47', '4/26', '52/54', '36/42', '34/43', '35/39', '6/36', '0/22', '44/47', '16/26', '41/47', '1/16', '2/20', '3/40', '38/40', '52/52', '44/50', '21/27', '33/48', '13/33', '83/112', '16/22', '20/28', '27/55', '37/41', '13/23', '10/28', '10/37', '1/26', '19/61', '13/53', '43/44', '54/56', '17/28', '60/61', '47/49', '47/50', '14/26', '18/25', '3/20', '70/70', '7/18', '4/31', '6/17', '6/45', '10/71', '15/108', '6/73', '4/64', '2/55', '45/47', '25/35', '96/100', '3/23', '43/43', '16/29', '20/31', '11/18', '49/50', '22/26', '28/35', '45/59', '177/180', '62/65', '29/34', '5/37', '9/28', '80/91', '24/29', '43/59', '0/16', '14/19', '47/47', '80/90', '46/46', '31/36', '48/59', '59/81', '31/42', '33/45', '23/31', '18/28', '16/31', '91/128', '16/23', '28/30', '34/38', '2/68', '4/23', '23/27', '41/41', '22/30', '2/31', '135/138', '54/57', '51/55', '2/23', '7/49', '1/30', '19/40', '22/68', '10/44', '45/45', '52/53', '11/26', '3/1', '29/32', '2/24', '0/23', '137/163', '31/43', '21/30', '14/20', '54/55', '29/42', '3/53', '3/63', '286/307', '87/91', '64/70', '35/42', '59/60', '41/43', '264/270', '84/85', '68/71', '69/73', '18/29', '10/20', '7/42', '15/68', '39/151', '33/38', '37/45', '66/70', '8/44', '65/73', '41/52', '16/24', '12/19', '77/78', '85/91', '37/37', '50/54', '3/26', '1/25', '25/29', '24/63', '258/270', '75/77', '52/56', '49/52', '10/21', '0/17', '119/120', '61/62', '73/78', '56/58', '107/119', '123/139', '22/28', '4/24', '25/28', '25/30', '26/38', '35/37', '89/99', '65/77', '13/26', '1/35', '131/133', '54/63', '85/88', '125/137', '52/55', '86/95', '8/16', '36/53', '5/45', '7/64', '8/26', '5/36', '49/55', '2/42', '82/83', '54/54', '1/36', '49/49', '53/56', '7/37', '48/71', '28/48', '11/20', '27/48', '35/66', '23/51', '65/70', '200/215', '40/42', '3/55', '53/55', '3/49', '10/18', '50/51', '536/539', '301/305', '36/45', '55/56', '8/29', '9/45', '28/32', '4/39', '22/44', '42/44', '2/17', '2/39', '60/60', '35/43', '78/81', '45/48', '34/49', '19/24', '71/72', '559/562', '472/477', '232/235', '88/88', '135/139', '84/87', '69/71', '22/29', '68/69', '64/65', '37/38', '6/28', '14/25', '294/298', '46/51', '24/31', '21/32', '15/35', '79/79', '67/77', '52/62', '20/26', '6/22', '10/34', '11/43', '11/52', '28/39', '30/42', '13/25', '75/75', '1/45', '46/48', '5/32', '1/20', '3/28', '0/31', '73/82', '23/29', '17/26', '70/72', '97/103', '28/43', '22/37', '58/58', '10/17', '2/21', '5/47', '19/93', '42/47', '56/61', '44/48', '15/23', '12/22', '53/53', '0/20', '154/156', '105/110', '60/62', '37/44', '64/69', '74/83', '67/75', '57/64', '36/40', '117/144', '72/92', '12/31', '14/23', '55/62', '78/80', '56/60', '27/41', '8/19', '61/69', '66/68', '49/63', '86/93', '32/37', '2/67', '13/32', '47/48', '10/19', '5/26', '69/70', '15/28', '6/47', '73/75', '19/28', '22/33', '72/77', '113/127', '141/162', '30/37', '6/49', '15/29', '162/181', '14/27', '0/80', '41/44', '24/28', '40/46', '43/52', '12/27', '25/34', '26/34', '33/36', '8/35', '6/30', '17/27', '42/50', '9/29', '46/47', '49/51', '0/39', '72/72', '16/35', '1/34', '349/356', '130/135', '230/245', '189/216', '73/84', '454/462', '172/174', '105/111', '53/54', '48/50', '116/128', '21/37', '9/21', '116/117', '12/52', '7/39', '96/134', '41/45', '81/98', '22/32', '0/28', '5/25', '4/34', '78/79', '63/64', '3/33', '18/31', '20/36', '72/76', '49/56', '11/23', '11/25', '9/23', '9/44', '2/38', '12/30', '179/182', '67/70', '40/40', '44/46', '138/143', '157/182', '3/25', '36/47', '51/59', '42/54', '9/18', '71/79', '54/59', '51/56', '39/44', '0/25', '14/29', '10/22', '1/28', '42/64', '48/48', '69/84', '70/71', '38/55', '30/38', '48/63', '28/36', '59/62', '43/45', '20/41', '8/58', '3/37', '5/42', '54/67', '84/84', '166/179', '74/80', '142/159', '40/101', '56/57', '35/49', '170/171', '96/97', '105/108', '55/55', '59/61', '46/71', '7/30', '247/249', '366/384', '165/187', '106/121', '58/67', '27/31', '219/263', '58/69', '39/47', '94/120', '5/40', '37/46', '52/66', '32/40', '3/39', '3/30', '110/110', '39/41', '0/36', '5/38', '63/65', '3/35', '76/77', '18/27', '142/144', '31/40', '55/61', '36/39', '49/53', '12/35', '4/27', '76/84', '71/85', '44/56', '31/39', '56/75', '52/71', '26/35', '53/83', '26/41', '32/34', '1/23', '78/92', '4/52', '40/49', '37/39', '4/93', '0/35', '7/31', '92/93', '57/57', '27/32', '79/84', '34/37', '41/48', '24/38', '35/52', '77/79', '131/131', '123/165', '32/42', '68/93', '17/37', '10/36', '95/97', '86/88', '73/79', '67/69', '50/73', '29/50', '53/67', '31/45', '413/416', '139/139', '106/106', '39/45', '34/39', '15/24', '8/22', '9/24', '13/36', '21/58', '8/37', '4/47', '32/51', '15/31', '8/31', '866/878', '524/536', '233/238', '79/81', '82/85', '65/68', '61/68', '51/57', '53/62', '50/69', '4/29', '2/37', '63/73', '5/31', '7/24', '31/44', '10/26', '10/43', '3/24', '88/93', '104/109', '34/45', '12/26', '23/34', '4/50', '85/86', '0/32', '12/29', '19/32', '42/74', '30/55', '19/36', '12/25', '27/58', '10/25', '24/60', '14/41', '14/42', '26/71', '7/29', '16/53', '17/64', '4/41', '8/59', '844/923', '97/106', '95/106', '64/72', '99/115', '88/103', '66/77', '47/54', '52/61', '142/174', '46/54', '40/48', '32/38', '53/66', '117/150', '66/85', '35/44', '88/115', '46/59', '68/92', '81/112', '27/37', '45/66', '42/62', '26/40', '22/34', '36/57', '35/56', '28/45', '18/30', '366/371', '68/68', '56/71', '6/23', '84/105', '23/32', '11/28', '72/82', '25/36', '44/52', '144/154', '10/32', '27/34', '124/125', '40/45', '83/85', '42/45', '60/76', '6/19', '70/78', '13/41', '22/46', '68/70', '47/53', '39/49', '138/149', '69/75', '491/569', '40/44', '40/50', '74/74', '5/22', '14/24', '355/360', '74/75', '7/26', '60/66', '5/28', '2/25', '13/34', '121/122', '11/69', '65/72', '9/25', '87/90', '66/67', '192/222', '61/79', '2/34', '2/43', '20/29', '70/73', '9/133', '30/53', '80/80', '30/43', '4/36', '57/61', '580/593', '48/54', '12/23', '0/46', '40/53', '22/31', '51/52', '4/18', '5/21', '36/44', '128/134', '102/110', '61/70', '21/28', '32/43', '56/64', '61/61', '155/185', '37/49', '13/22', '436/486', '110/126', '44/49', '61/83', '54/74', '40/62', '20/34', '113/114', '144/149', '93/97', '54/60', '9/27', '12/28', '3/42', '37/43', '33/42', '44/66', '42/140', '7/88', '23/30', '88/90', '6/37', '3/69', '2/73', '3/90', '3/31', '13/47', '46/55', '32/49', '24/33', '38/71', '85/85', '39/48', '8/38', '5/35', '121/124', '43/46', '6/32', '105/105', '38/49', '446/452', '262/263', '319/323', '103/106', '88/98', '45/50', '15/39', '66/71', '356/365', '439/452', '346/356', '193/197', '274/284', '466/488', '2/57', '12/34', '36/46', '39/53', '6/21', '79/82', '56/81', '39/42', '21/34', '29/39', '86/86', '354/383', '76/78', '142/152', '37/47', '11/29', '113/118', '90/97', '16/100', '63/75', '9/26', '55/72', '0/34', '152/154', '93/108', '71/76', '20/30', '11/33', '64/74', '33/52', '34/48', '37/54', '50/74', '27/40', '429/436', '172/176', '129/132', '135/155', '14/32', '81/81', '62/62', '15/37', '19/33', '33/37', '73/73', '31/37', '96/99', '120/139', '0/43', '0/54', '38/46', '8/43', '538/544', '178/184', '257/274', '95/100', '69/74', '119/121', '7/36', '116/118', '72/79', '38/45', '20/40', '92/92', '25/40', '7/56', '90/100', '55/59', '121/125', '212/240', '46/50', '128/152', '17/32', '82/82', '54/64', '80/82', '68/90', '38/52', '38/53', '96/119', '3/27', '1/43', '7/32', '205/229', '108/108', '130/156', '68/88', '8/46', '58/81', '44/62', '13/46', '5/67', '4/30', '153/171', '278/284', '164/168', '23/39', '19/56', '12/55', '4/59', '11/38', '108/110', '77/80', '158/158', '58/61', '65/71', '14/62', '3/29', '126/127', '28/33', '63/70', '3/41', '10/48', '100/100', '406/415', '290/296', '166/172', '62/64', '150/163', '64/71', '10/69', '14/37', '20/43', '0/29', '80/81', '488/496', '303/307', '147/160', '209/248', '83/98', '16/38', '10/24', '53/64', '23/33', '8/21', '1/41', '218/220', '143/152', '71/75', '15/27', '97/98', '43/53', '58/62', '71/81', '2/46', '34/44', '99/99', '11/72', '32/47', '146/178', '121/137', '88/91', '6/67', '7/22', '63/93', '148/150', '57/59', '70/77', '36/41', '142/149', '151/160', '21/31', '31/38', '117/119', '118/120', '67/67', '2/32', '8/42', '145/147', '0/59', '96/107', '111/112', '24/37', '76/80', '28/38', '253/286', '169/190', '96/122', '33/40', '26/33', '10/29', '97/102', '2/45', '137/143', '24/66', '12/65', '209/214', '104/107', '77/106', '19/49', '54/58', '49/57', '85/90', '13/30', '22/63', '8/87', '67/68', '11/30', '26/39', '159/164', '42/46', '174/186', '77/84', '58/64', '47/56', '57/69', '28/37', '17/29', '93/93', '81/82', '18/37', '34/42', '1/29', '3/70', '0/24', '97/101', '114/122', '6/60', '1/91', '18/41', '11/35', '12/51', '27/36', '68/74', '204/214', '227/230', '94/99', '58/65', '82/98', '4/38', '43/57', '8/33', '27/104', '46/61', '96/105', '78/82', '6/41', '30/36', '207/215', '90/104', '13/43', '274/282', '51/54', '65/75', '148/176', '10/27', '1/47', '5/145', '25/42', '199/200', '72/80', '90/94', '102/103', '39/46', '321/322', '157/162', '6/46', '37/50', '14/35', '4/42', '13/38', '24/36', '22/57', '137/140', '39/43', '7/34', '223/228', '187/191', '83/107', '12/68', '7/60', '46/49', '84/99', '8/24', '63/69', '111/130', '18/33', '97/105', '63/82', '40/55', '45/63', '142/155', '71/78', '101/102', '32/55', '15/32', '30/41', '109/112', '29/41', '16/27', '4/37', '53/59', '0/42', '63/72', '106/110', '13/29', '100/102', '6/76', '115/118', '69/77', '19/35', '4/51', '4/25', '12/48', '281/286', '76/82', '94/106', '34/40', '231/256', '94/100', '56/62', '3/106', '94/95', '75/76', '7/41', '8/30', '33/44', '76/109', '122/124', '122/125', '77/77', '112/124', '107/109', '81/83', '227/251', '11/27', '30/44', '45/53', '188/195', '106/113', '41/53', '8/45', '15/34', '9/39', '63/66', '6/33', '2/65', '8/32', '43/49', '13/135', '45/49', '73/83', '38/47', '808/815']\n",
      "Total unique values: 1571\n"
     ]
    }
   ],
   "source": [
    "# Extract unique helpfulness strings\n",
    "unique_help_str = reviews.pluck('review/helpfulness').distinct()\n",
    "\n",
    "# Compute all unique values as a Python list\n",
    "all_unique_help = unique_help_str.compute()\n",
    "\n",
    "print(all_unique_help)  # prints all unique values\n",
    "print(f\"Total unique values: {len(all_unique_help)}\")"
   ]
  },
  {
   "cell_type": "code",
   "execution_count": 11,
   "id": "4a08a1f6-619a-47b9-95c0-8103b5345ea6",
   "metadata": {},
   "outputs": [
    {
     "name": "stdout",
     "output_type": "stream",
     "text": [
      "(100, 0, 100, 100, 0)\n"
     ]
    }
   ],
   "source": [
    "def score_to_percentage(element):\n",
    "    xy = element.get('review/helpfulness', '0/1')  # default to 0/1\n",
    "    try:\n",
    "        numerator, denominator = xy.split('/')\n",
    "        numerator = float(numerator)\n",
    "        denominator = float(denominator)\n",
    "        percentage = (numerator / denominator) * 100 if denominator != 0 else 0.0\n",
    "        percentage = round(percentage)  # round to nearest integer\n",
    "    except Exception:\n",
    "        percentage = 0\n",
    "\n",
    "    # ✅ Update only that field\n",
    "    element['review/helpfulness'] = int(percentage)\n",
    "    return element\n",
    "\n",
    "reviews = reviews.map(score_to_percentage)\n",
    "def fetch_help(element):\n",
    "    numeric_score = element['review/helpfulness']\n",
    "    return numeric_score\n",
    "review_help = reviews.map(fetch_help)\n",
    "print(review_help.take(5))"
   ]
  },
  {
   "cell_type": "code",
   "execution_count": 12,
   "id": "7e1011b1-2101-4254-bbc9-c7936f95a719",
   "metadata": {},
   "outputs": [],
   "source": [
    "def result(element):\n",
    "    score = float(element['review/helpfulness'])\n",
    "\n",
    "    if score < 50:\n",
    "        element['review/helpfulness'] = 'Fail'\n",
    "    elif 50 <= score < 75:\n",
    "        element['review/helpfulness'] = 'Average'\n",
    "    else:\n",
    "        element['review/helpfulness'] = 'Great'\n",
    "\n",
    "    return element\n",
    "\n",
    "# apply on Dask Bag\n",
    "reviews = reviews.map(result)"
   ]
  },
  {
   "cell_type": "code",
   "execution_count": 13,
   "id": "1f76203e-2cf0-49d2-9abb-0be668c52933",
   "metadata": {},
   "outputs": [
    {
     "name": "stdout",
     "output_type": "stream",
     "text": [
      "({'product/productId': 'B001E4KFG0', 'review/userId': 'A3SGXH7AUHU8GW', 'review/profileName': 'delmartian', 'review/helpfulness': 'Great', 'review/score': 'pos', 'review/time': '1303862400', 'review/summary': 'Good Quality Dog Food', 'review/text': 'I have bought several of the Vitality canned dog food products and have found them all to be of good quality. The product looks more like a stew than a processed meat and it smells better. My Labrador is finicky and she appreciates this product better than  most.'}, {'product/productId': 'B00813GRG4', 'review/userId': 'A1D87F6ZCVE5NK', 'review/profileName': 'dll pa', 'review/helpfulness': 'Fail', 'review/score': 'neg', 'review/time': '1346976000', 'review/summary': 'Not as Advertised', 'review/text': 'Product arrived labeled as Jumbo Salted Peanuts...the peanuts were actually small sized unsalted. Not sure if this was an error or if the vendor intended to represent the product as \"Jumbo\".'}, {'product/productId': 'B000LQOCH0', 'review/userId': 'ABXLMWJIXXAIN', 'review/profileName': 'Natalia Corres \"Natalia Corres\"', 'review/helpfulness': 'Great', 'review/score': 'pos', 'review/time': '1219017600', 'review/summary': '\"Delight\" says it all', 'review/text': 'This is a confection that has been around a few centuries.  It is a light, pillowy citrus gelatin with nuts - in this case Filberts. And it is cut into tiny squares and then liberally coated with powdered sugar.  And it is a tiny mouthful of heaven.  Not too chewy, and very flavorful.  I highly recommend this yummy treat.  If you are familiar with the story of C.S. Lewis\\' \"The Lion, The Witch, and The Wardrobe\" - this is the treat that seduces Edmund into selling out his Brother and Sisters to the Witch.'}, {'product/productId': 'B000UA0QIQ', 'review/userId': 'A395BORC6FGVXV', 'review/profileName': 'Karl', 'review/helpfulness': 'Great', 'review/score': 'neg', 'review/time': '1307923200', 'review/summary': 'Cough Medicine', 'review/text': 'If you are looking for the secret ingredient in Robitussin I believe I have found it.  I got this in addition to the Root Beer Extract I ordered (which was good) and made some cherry soda.  The flavor is very medicinal.'}, {'product/productId': 'B006K2ZZ7K', 'review/userId': 'A1UQRSCLF8GW1T', 'review/profileName': 'Michael D. Bigham \"M. Wassir\"', 'review/helpfulness': 'Fail', 'review/score': 'pos', 'review/time': '1350777600', 'review/summary': 'Great taffy', 'review/text': 'Great taffy at a great price.  There was a wide assortment of yummy taffy.  Delivery was very quick.  If your a taffy lover, this is a deal.'})\n"
     ]
    }
   ],
   "source": [
    "print(reviews.take(5))"
   ]
  },
  {
   "cell_type": "code",
   "execution_count": 14,
   "id": "8dc21384-1efd-4086-b088-4396527df613",
   "metadata": {},
   "outputs": [
    {
     "data": {
      "text/plain": [
       "dask.bag.core.Bag"
      ]
     },
     "execution_count": 14,
     "metadata": {},
     "output_type": "execute_result"
    }
   ],
   "source": [
    "type(reviews)"
   ]
  },
  {
   "cell_type": "code",
   "execution_count": 15,
   "id": "60793fae-09d2-4806-95d1-781a3d2402a5",
   "metadata": {},
   "outputs": [],
   "source": [
    "import pandas as pd\n",
    "import dask.dataframe as dd\n",
    "\n",
    "# 1️⃣ Suppose your data is a list of dicts (reviews)\n",
    "# reviews = [...]  # your large list of dictionaries\n",
    "first_100_items = reviews.take(100)\n",
    "# 2️⃣ Convert to pandas DataFrame\n",
    "pdf = pd.DataFrame(first_100_items)\n",
    "# 3️⃣ Convert pandas DataFrame → Dask DataFrame\n",
    "df = dd.from_pandas(pdf, npartitions=5)  # adjust partitions as needed"
   ]
  },
  {
   "cell_type": "code",
   "execution_count": 16,
   "id": "b793b270-27ff-45af-ae91-74683455fb27",
   "metadata": {},
   "outputs": [
    {
     "name": "stdout",
     "output_type": "stream",
     "text": [
      "  product/productId   review/userId               review/profileName  \\\n",
      "0        B001E4KFG0  A3SGXH7AUHU8GW                       delmartian   \n",
      "1        B00813GRG4  A1D87F6ZCVE5NK                           dll pa   \n",
      "2        B000LQOCH0   ABXLMWJIXXAIN  Natalia Corres \"Natalia Corres\"   \n",
      "3        B000UA0QIQ  A395BORC6FGVXV                             Karl   \n",
      "4        B006K2ZZ7K  A1UQRSCLF8GW1T    Michael D. Bigham \"M. Wassir\"   \n",
      "\n",
      "  review/helpfulness review/score review/time         review/summary  \\\n",
      "0              Great          pos  1303862400  Good Quality Dog Food   \n",
      "1               Fail          neg  1346976000      Not as Advertised   \n",
      "2              Great          pos  1219017600  \"Delight\" says it all   \n",
      "3              Great          neg  1307923200         Cough Medicine   \n",
      "4               Fail          pos  1350777600            Great taffy   \n",
      "\n",
      "                                         review/text  \n",
      "0  I have bought several of the Vitality canned d...  \n",
      "1  Product arrived labeled as Jumbo Salted Peanut...  \n",
      "2  This is a confection that has been around a fe...  \n",
      "3  If you are looking for the secret ingredient i...  \n",
      "4  Great taffy at a great price.  There was a wid...  \n"
     ]
    }
   ],
   "source": [
    "print(df.head())"
   ]
  },
  {
   "cell_type": "code",
   "execution_count": 17,
   "id": "f1f14cb6-3bbe-4503-b505-fc7f10e9a30c",
   "metadata": {},
   "outputs": [],
   "source": [
    "df = df.rename(columns={\"review/text\": \"article\"})"
   ]
  },
  {
   "cell_type": "code",
   "execution_count": 18,
   "id": "bb773fbd-c863-4bba-a151-2cfa34521382",
   "metadata": {},
   "outputs": [
    {
     "name": "stdout",
     "output_type": "stream",
     "text": [
      "\n",
      "Row 0:\n",
      "['i', 'have', 'bought', 'several', 'of', 'the', 'vitality', 'canned', 'dog', 'food', 'products', 'and', 'have', 'found', 'them', 'all', 'to', 'be', 'of', 'good', 'quality', '.', 'the', 'product', 'looks', 'more', 'like', 'a', 'stew', 'than', 'a', 'processed', 'meat', 'and', 'it', 'smells', 'better', '.', 'my', 'labrador', 'is', 'finicky', 'and', 'she', 'appreciates', 'this', 'product', 'better', 'than', 'most', '.']\n",
      "Type: <class 'list'>\n",
      "\n",
      "Row 1:\n",
      "['product', 'arrived', 'labeled', 'as', 'jumbo', 'salted', 'peanuts', '...', 'the', 'peanuts', 'were', 'actually', 'small', 'sized', 'unsalted', '.', 'not', 'sure', 'if', 'this', 'was', 'an', 'error', 'or', 'if', 'the', 'vendor', 'intended', 'to', 'represent', 'the', 'product', 'as', '``', 'jumbo', \"''\", '.']\n",
      "Type: <class 'list'>\n",
      "\n",
      "Row 2:\n",
      "['this', 'is', 'a', 'confection', 'that', 'has', 'been', 'around', 'a', 'few', 'centuries', '.', 'it', 'is', 'a', 'light', ',', 'pillowy', 'citrus', 'gelatin', 'with', 'nuts', '-', 'in', 'this', 'case', 'filberts', '.', 'and', 'it', 'is', 'cut', 'into', 'tiny', 'squares', 'and', 'then', 'liberally', 'coated', 'with', 'powdered', 'sugar', '.', 'and', 'it', 'is', 'a', 'tiny', 'mouthful', 'of', 'heaven', '.', 'not', 'too', 'chewy', ',', 'and', 'very', 'flavorful', '.', 'i', 'highly', 'recommend', 'this', 'yummy', 'treat', '.', 'if', 'you', 'are', 'familiar', 'with', 'the', 'story', 'of', 'c.s', '.', 'lewis', \"'\", '``', 'the', 'lion', ',', 'the', 'witch', ',', 'and', 'the', 'wardrobe', \"''\", '-', 'this', 'is', 'the', 'treat', 'that', 'seduces', 'edmund', 'into', 'selling', 'out', 'his', 'brother', 'and', 'sisters', 'to', 'the', 'witch', '.']\n",
      "Type: <class 'list'>\n"
     ]
    }
   ],
   "source": [
    "\n",
    "# ========================\n",
    "# 🔤 Normalize text\n",
    "# ========================\n",
    "def normalize_text(x):\n",
    "    if pd.isna(x) or x == '':\n",
    "        return ''\n",
    "    return x.lower()\n",
    "\n",
    "normalized_reviews = df['article'].map_partitions(\n",
    "    lambda col: col.map(normalize_text),\n",
    "    meta=pd.Series(dtype=object)\n",
    ")\n",
    "\n",
    "# ========================\n",
    "# 🧠 Tokenize safely\n",
    "# ========================\n",
    "def text_tokenization(x):\n",
    "    try:\n",
    "        if pd.isna(x) or x.strip() == '':\n",
    "            return []\n",
    "        return word_tokenize(x)\n",
    "    except Exception:\n",
    "        return []\n",
    "\n",
    "tokenized = normalized_reviews.map_partitions(\n",
    "    lambda col: col.map(text_tokenization),\n",
    "    meta=pd.Series(dtype=object)\n",
    ")\n",
    "\n",
    "# ========================\n",
    "# 🛠️ Fix stringified lists (if needed)\n",
    "# ========================\n",
    "def safe_eval(x):\n",
    "    try:\n",
    "        return ast.literal_eval(x) if isinstance(x, str) else x\n",
    "    except Exception:\n",
    "        return []\n",
    "\n",
    "tokenized = tokenized.map_partitions(\n",
    "    lambda col: col.map(safe_eval),\n",
    "    meta=pd.Series(dtype=object)\n",
    ")\n",
    "\n",
    "# ========================\n",
    "# 🔧 Expand contractions\n",
    "# ========================\n",
    "def expand_token(token):\n",
    "    return contractions_dict.get(token, token)\n",
    "\n",
    "def expand_contractions(tokens):\n",
    "    if isinstance(tokens, list):\n",
    "        expanded = []\n",
    "        for token in tokens:\n",
    "            expanded.extend(expand_token(token).split())\n",
    "        return expanded\n",
    "    return []\n",
    "\n",
    "contracted_reviews = tokenized.map_partitions(\n",
    "    lambda col: col.map(expand_contractions),\n",
    "    meta=pd.Series(dtype=object)\n",
    ")\n",
    "\n",
    "# ========================\n",
    "# ✅ Inspect sample\n",
    "# ========================\n",
    "sample = contracted_reviews.head(3)\n",
    "for i, row in enumerate(sample):\n",
    "    print(f\"\\nRow {i}:\\n{row}\\nType: {type(row)}\")\n"
   ]
  },
  {
   "cell_type": "code",
   "execution_count": 19,
   "id": "4dd5c659-fbfc-4d1a-9299-f952850dc656",
   "metadata": {},
   "outputs": [],
   "source": [
    "regex = r'^@[a-zA-z0-9]|^#[a-zA-Z0-9]|\\w+:\\/{2}[\\d\\w-]+(\\.[\\d\\w-]+)*(?:(?:\\/[^\\s/]*))*|\\W+|\\d+|<(\"[^\"]*\"|\\'[^\\']*\\'|[^\\'\">])*>|_+|[^\\u0000-\\u007f]+'"
   ]
  },
  {
   "cell_type": "code",
   "execution_count": 20,
   "id": "e592d211-3f23-4bca-a939-b9eea231f2f8",
   "metadata": {},
   "outputs": [],
   "source": [
    "import re\n",
    "from nltk.corpus import stopwords\n",
    "from spacy.lang.en.stop_words import STOP_WORDS\n",
    "from itertools import filterfalse\n",
    "from nltk import pos_tag\n",
    "from nltk.stem import WordNetLemmatizer\n",
    "from nltk.corpus import wordnet as wn\n",
    "from sklearn.feature_extraction.text import TfidfVectorizer"
   ]
  },
  {
   "cell_type": "code",
   "execution_count": 21,
   "id": "39e946ae-4593-47e6-8152-1494b7bb3abf",
   "metadata": {},
   "outputs": [
    {
     "data": {
      "text/plain": [
       "0    [i, have, bought, several, of, the, vitality, ...\n",
       "1    [product, arrived, labeled, as, jumbo, salted,...\n",
       "dtype: object"
      ]
     },
     "execution_count": 21,
     "metadata": {},
     "output_type": "execute_result"
    }
   ],
   "source": [
    "def waste_word_or_not(token):\n",
    "    return bool(re.search(regex, token))\n",
    "\n",
    "# Apply filter to a tokenized list\n",
    "def filter_waste_words(tokens):\n",
    "    if isinstance(tokens, list):\n",
    "        return list(filterfalse(waste_word_or_not, tokens))\n",
    "    return []\n",
    "\n",
    "# Apply over contracted tokenized reviews\n",
    "filtered_reviews = contracted_reviews.map_partitions(\n",
    "    lambda col: col.map(filter_waste_words),\n",
    "    meta=pd.Series(dtype=object)\n",
    ")\n",
    "\n",
    "# Preview\n",
    "filtered_reviews.head(2)\n"
   ]
  },
  {
   "cell_type": "code",
   "execution_count": 22,
   "id": "999ea8a1-3252-4dab-b511-8e5b31827d7c",
   "metadata": {},
   "outputs": [
    {
     "data": {
      "text/plain": [
       "0    [bought, vitality, canned, dog, food, products...\n",
       "1    [product, arrived, labeled, jumbo, salted, pea...\n",
       "dtype: object"
      ]
     },
     "execution_count": 22,
     "metadata": {},
     "output_type": "execute_result"
    }
   ],
   "source": [
    "def split(tokens):\n",
    "    if isinstance(tokens, list):\n",
    "        return [re.split(regex, x)[0] for x in tokens]\n",
    "    return []\n",
    "# 1. Split on regex\n",
    "filtered_reviews = filtered_reviews.map_partitions(\n",
    "    lambda col: col.map(split),\n",
    "    meta=pd.Series(dtype=object)\n",
    ")\n",
    "en_stop_words = set(stopwords.words('english')).union(STOP_WORDS)\n",
    "def is_stopword(token):\n",
    "    return not (\n",
    "        token in en_stop_words or \n",
    "        re.search(r'\\b\\w\\b|[^\\u0000-\\u007f]+|_+|\\W+', token)\n",
    "    )\n",
    "\n",
    "def stopwords_removal(tokens):\n",
    "    if isinstance(tokens, list):\n",
    "        return list(filter(is_stopword, tokens))\n",
    "    return []\n",
    "\n",
    "# 2. Remove stopwords and noise\n",
    "without_stopwords_reviews = filtered_reviews.map_partitions(\n",
    "    lambda col: col.map(stopwords_removal),\n",
    "    meta=pd.Series(dtype=object)\n",
    ")\n",
    "without_stopwords_reviews.head(2)\n"
   ]
  },
  {
   "cell_type": "code",
   "execution_count": 23,
   "id": "81b83116-8a5c-4ad1-b6dd-42b5d87d6d13",
   "metadata": {},
   "outputs": [
    {
     "data": {
      "text/plain": [
       "0    [(bought, v), (vitality, n), (canned, v), (dog...\n",
       "1    [(product, n), (arrived, v), (labeled, a), (ju...\n",
       "Name: x, dtype: object"
      ]
     },
     "execution_count": 23,
     "metadata": {},
     "output_type": "execute_result"
    }
   ],
   "source": [
    "from pos_helpers import process_partition\n",
    "tagged_reviews = without_stopwords_reviews.map_partitions(process_partition, meta=('x', 'object'))\n",
    "tagged_reviews.head(2)"
   ]
  },
  {
   "cell_type": "code",
   "execution_count": 24,
   "id": "51f32b41-20e5-4771-a747-61fbcc61656c",
   "metadata": {},
   "outputs": [
    {
     "name": "stdout",
     "output_type": "stream",
     "text": [
      "0    [buy, vitality, can, dog, food, product, find,...\n",
      "1    [product, arrive, labeled, jumbo, salt, peanut...\n",
      "Name: x, dtype: object\n"
     ]
    }
   ],
   "source": [
    "# Instantiate lemmatizer at top-level (important for Dask)\n",
    "lemmatizer = WordNetLemmatizer()\n",
    "\n",
    "def token_lemmatization(token_pos_tuple):\n",
    "    if token_pos_tuple is None or len(token_pos_tuple) < 2:\n",
    "        return \"\"\n",
    "    return lemmatizer.lemmatize(word=token_pos_tuple[0], pos=token_pos_tuple[1])\n",
    "\n",
    "def lemmatization(review):\n",
    "    if isinstance(review, list) and len(review) > 0:\n",
    "        return list(map(token_lemmatization, review))\n",
    "    return [\"\"]\n",
    "\n",
    "def process_lemmatization_partition(partition_series):\n",
    "    return partition_series.map(lemmatization)\n",
    "\n",
    "# Apply in Dask using named function (not lambda)\n",
    "lemmatized_reviews = tagged_reviews.map_partitions(\n",
    "    process_lemmatization_partition,\n",
    "    meta=('x', 'object')\n",
    ")\n",
    "\n",
    "# View result\n",
    "print(lemmatized_reviews.head(2))"
   ]
  },
  {
   "cell_type": "code",
   "execution_count": 25,
   "id": "14227249-f6e9-4b4b-9bab-e110497ee175",
   "metadata": {},
   "outputs": [],
   "source": [
    "extracted_tokens = lemmatized_reviews  # This is a dask Series\n",
    "import dask.bag as db\n",
    "\n",
    "# Convert series to bag\n",
    "token_bag = lemmatized_reviews.to_bag()"
   ]
  },
  {
   "cell_type": "code",
   "execution_count": 26,
   "id": "6e8293a2-1a8d-4ff6-afb9-c39372024c45",
   "metadata": {},
   "outputs": [
    {
     "data": {
      "text/plain": [
       "['br', 'good']"
      ]
     },
     "execution_count": 26,
     "metadata": {},
     "output_type": "execute_result"
    }
   ],
   "source": [
    "def count(accumulator,element):\n",
    "    return accumulator + 1\n",
    "def combine(total_1,total_2):\n",
    "    return total_1 + total_2\n",
    "from dask.distributed import Client\n",
    "client = Client(processes=None)\n",
    "token_counts = token_bag.flatten().foldby(\n",
    "    key=lambda x: x,      # Group by token itself\n",
    "    binop=count,          # Count each occurrence\n",
    "    initial=0,            # Start from 0\n",
    "    combine=combine,      # Combine results from partitions\n",
    "    combine_initial=0     # Start from 0 when combining\n",
    ").compute()\n",
    "\n",
    "top_tokens = sorted(token_counts,key=lambda x:x[1],reverse=True)\n",
    "top_100_tokens = list(map(lambda x:x[0],top_tokens[:100]))\n",
    "top_100_tokens[:2]"
   ]
  },
  {
   "cell_type": "code",
   "execution_count": 27,
   "id": "8da66e3b-33d6-410f-adbe-980bbe407e9c",
   "metadata": {},
   "outputs": [
    {
     "data": {
      "text/plain": [
       "0    [0, 1, 0, 1, 1, 0, 0, 0, 0, 0, 0, 0, 0, 0, 0, ...\n",
       "1    [0, 0, 0, 0, 1, 0, 0, 0, 0, 0, 0, 0, 0, 0, 0, ...\n",
       "dtype: object"
      ]
     },
     "execution_count": 27,
     "metadata": {},
     "output_type": "execute_result"
    }
   ],
   "source": [
    "import numpy as np\n",
    "def extract_bow_vector(review):\n",
    "    one_hot_encoded_bow_vector = np.where(np.isin(top_100_tokens,review),1,0)\n",
    "    review = one_hot_encoded_bow_vector\n",
    "    return review\n",
    "model_data = lemmatized_reviews.map_partitions(\n",
    "    lambda col: col.map(extract_bow_vector),\n",
    "    meta=pd.Series(dtype=object))\n",
    "model_data.head(2)"
   ]
  },
  {
   "cell_type": "code",
   "execution_count": 28,
   "id": "754e6496-5f46-4675-a875-f04313fb5ed7",
   "metadata": {},
   "outputs": [],
   "source": [
    "import dask.array as da\n",
    "model_bag = model_data.to_bag()"
   ]
  },
  {
   "cell_type": "markdown",
   "id": "604741d4-fb89-496f-8efa-36b4a399e8e0",
   "metadata": {},
   "source": [
    "## MULTIPLE SVM ##"
   ]
  },
  {
   "cell_type": "code",
   "execution_count": 29,
   "id": "06fbea2d-3a22-4a2e-b242-40e65579b7d6",
   "metadata": {},
   "outputs": [
    {
     "data": {
      "text/plain": [
       "Dask Series Structure:\n",
       "npartitions=5\n",
       "0     object\n",
       "16       ...\n",
       "       ...  \n",
       "61       ...\n",
       "75       ...\n",
       "Dask Name: lambda, 15 expressions\n",
       "Expr=MapPartitions(lambda)"
      ]
     },
     "execution_count": 29,
     "metadata": {},
     "output_type": "execute_result"
    }
   ],
   "source": [
    "# Add the BOW vector to the DataFrame\n",
    "df['bow_vector'] = model_data\n",
    "\n",
    "# Define a function using the row\n",
    "def prep_model_data_row(row):\n",
    "    return {\n",
    "        'label': 1 if row['review/score'] == 'pos' else 0,\n",
    "        'bow_vector': row['bow_vector']\n",
    "    }\n",
    "\n",
    "# Apply row-wise\n",
    "model_data_dicts = df.map_partitions(\n",
    "    lambda partition: partition.apply(prep_model_data_row, axis=1),\n",
    "    meta=pd.Series(dtype=object)\n",
    ")\n",
    "model_data_dicts"
   ]
  },
  {
   "cell_type": "code",
   "execution_count": 30,
   "id": "08fc5497-5b8a-4eab-a445-a22a409c2139",
   "metadata": {},
   "outputs": [
    {
     "data": {
      "text/plain": [
       "0    {'label': 1, 'bow_vector': [0, 1, 0, 1, 1, 0, ...\n",
       "1    {'label': 0, 'bow_vector': [0, 0, 0, 0, 1, 0, ...\n",
       "2    {'label': 1, 'bow_vector': [0, 0, 0, 0, 0, 0, ...\n",
       "3    {'label': 0, 'bow_vector': [0, 1, 0, 0, 0, 0, ...\n",
       "4    {'label': 1, 'bow_vector': [0, 0, 0, 0, 0, 0, ...\n",
       "dtype: object"
      ]
     },
     "execution_count": 30,
     "metadata": {},
     "output_type": "execute_result"
    }
   ],
   "source": [
    "model_data_dicts.head(5)"
   ]
  },
  {
   "cell_type": "code",
   "execution_count": 31,
   "id": "fd046597-4ef7-4474-8b34-924914aa9510",
   "metadata": {},
   "outputs": [
    {
     "data": {
      "text/plain": [
       "dask.dataframe.dask_expr._collection.Series"
      ]
     },
     "execution_count": 31,
     "metadata": {},
     "output_type": "execute_result"
    }
   ],
   "source": [
    "type(model_data_dicts)"
   ]
  },
  {
   "cell_type": "code",
   "execution_count": 32,
   "id": "59eda257-5dfa-44a4-b97e-f4c222c3202f",
   "metadata": {},
   "outputs": [],
   "source": [
    "def extract_label_bow(partition):\n",
    "    # partition is a pandas Series\n",
    "    def process(x):\n",
    "        # Convert each element in bow_vector to int\n",
    "        bow = [int(i) for i in x['bow_vector']]\n",
    "        return pd.Series({'label': int(x['label']), 'bow_vector': bow})\n",
    "    return partition.apply(process)\n",
    "\n",
    "svm_data = model_data_dicts.map_partitions(extract_label_bow, meta={'label': int, 'bow_vector': object})\n",
    "\n"
   ]
  },
  {
   "cell_type": "code",
   "execution_count": 33,
   "id": "0ccd145d-7562-40c5-9be6-6fe00256f293",
   "metadata": {},
   "outputs": [
    {
     "data": {
      "text/plain": [
       "<bound method FrameBase.head of Dask DataFrame Structure:\n",
       "               label bow_vector\n",
       "npartitions=5                  \n",
       "0              int32     object\n",
       "16               ...        ...\n",
       "...              ...        ...\n",
       "61               ...        ...\n",
       "75               ...        ...\n",
       "Dask Name: extract_label_bow, 16 expressions\n",
       "Expr=MapPartitions(extract_label_bow)>"
      ]
     },
     "execution_count": 33,
     "metadata": {},
     "output_type": "execute_result"
    }
   ],
   "source": [
    "svm_data.head"
   ]
  },
  {
   "cell_type": "code",
   "execution_count": 34,
   "id": "1b7be2fa-bb0e-44c7-a179-f732eb618732",
   "metadata": {},
   "outputs": [
    {
     "name": "stdout",
     "output_type": "stream",
     "text": [
      "Index(['label', 'bow_vector'], dtype='object')\n"
     ]
    }
   ],
   "source": [
    "print(svm_data.columns)"
   ]
  },
  {
   "cell_type": "code",
   "execution_count": 35,
   "id": "ca672ac3-b8ca-45de-809f-dd0e642bd647",
   "metadata": {},
   "outputs": [
    {
     "data": {
      "text/plain": [
       "dask.dataframe.dask_expr._collection.DataFrame"
      ]
     },
     "execution_count": 35,
     "metadata": {},
     "output_type": "execute_result"
    }
   ],
   "source": [
    "type(svm_data)"
   ]
  },
  {
   "cell_type": "code",
   "execution_count": 36,
   "id": "cd78423c-edda-4138-9d80-639cb42f1c30",
   "metadata": {},
   "outputs": [],
   "source": [
    "import dask.array as da\n",
    "import numpy as np\n",
    "from sklearn.svm import SVC\n",
    "from sklearn.model_selection import train_test_split\n",
    "from sklearn.metrics import accuracy_score\n",
    "\n",
    "# Convert bow_vector column (lists) to NumPy array\n",
    "X = np.array(svm_data['bow_vector'].compute().tolist())  # compute() brings it to memory\n",
    "y = svm_data['label'].compute()\n"
   ]
  },
  {
   "cell_type": "code",
   "execution_count": 37,
   "id": "0d83edf9-765d-4f49-b37a-71d69f41fbcd",
   "metadata": {},
   "outputs": [
    {
     "name": "stdout",
     "output_type": "stream",
     "text": [
      "SVM with linear kernel accuracy: 0.6250\n",
      "SVM with poly kernel accuracy: 0.6250\n",
      "SVM with rbf kernel accuracy: 0.6250\n",
      "SVM with sigmoid kernel accuracy: 0.6250\n"
     ]
    }
   ],
   "source": [
    "X_train, X_test, y_train, y_test = train_test_split(X, y, test_size=0.2, random_state=42)\n",
    "\n",
    "kernels = ['linear', 'poly', 'rbf', 'sigmoid']\n",
    "for kernel in kernels:\n",
    "    clf = SVC(kernel=kernel)\n",
    "    clf.fit(X_train, y_train)\n",
    "    y_pred = clf.predict(X_test)\n",
    "    print(f\"SVM with {kernel} kernel accuracy: {accuracy_score(y_test, y_pred):.4f}\")\n"
   ]
  },
  {
   "cell_type": "markdown",
   "id": "4bc091b5-0dbf-45b3-916f-a72fd0150e08",
   "metadata": {},
   "source": [
    "## MULTICLASS SVM ##"
   ]
  },
  {
   "cell_type": "code",
   "execution_count": 42,
   "id": "5d1bce74-1bee-44a1-9a75-c9908e50e622",
   "metadata": {},
   "outputs": [],
   "source": [
    "# Assume df already has 'bow_vector' and 'review/helpfulness' processed\n",
    "# Make sure 'review/helpfulness' is numeric or categorical\n",
    "# df['review/helpfulness'] = df['review/helpfulness'].map(score_to_percentage)\n",
    "\n",
    "# Create a new DataFrame with only the columns we need\n",
    "svm_df = df[['review/helpfulness', 'bow_vector']].rename(\n",
    "    columns={'review/helpfulness': 'label'}\n",
    ")"
   ]
  },
  {
   "cell_type": "code",
   "execution_count": 45,
   "id": "83f5961f-03ea-4dd8-96b5-52dea7fc67af",
   "metadata": {},
   "outputs": [],
   "source": [
    "# Convert bow_vector column (lists) to NumPy array\n",
    "X = np.array(svm_df['bow_vector'].compute().tolist())  # compute() brings it to memory\n",
    "y = svm_df['label'].compute()"
   ]
  },
  {
   "cell_type": "code",
   "execution_count": 46,
   "id": "6c5293fc-aa24-4588-b533-4346c2d01ca8",
   "metadata": {},
   "outputs": [
    {
     "name": "stdout",
     "output_type": "stream",
     "text": [
      "SVM with linear kernel accuracy: 0.6875\n",
      "SVM with poly kernel accuracy: 0.5625\n",
      "SVM with rbf kernel accuracy: 0.5625\n",
      "SVM with sigmoid kernel accuracy: 0.5625\n"
     ]
    }
   ],
   "source": [
    "X_train, X_test, y_train, y_test = train_test_split(X, y, test_size=0.2, random_state=42)\n",
    "\n",
    "kernels = ['linear', 'poly', 'rbf', 'sigmoid']\n",
    "\n",
    "for kernel in kernels:\n",
    "    clf = SVC(kernel=kernel, decision_function_shape='ovr')  # ✅ OvR handles multiclass\n",
    "    clf.fit(X_train, y_train)\n",
    "    y_pred = clf.predict(X_test)\n",
    "    print(f\"SVM with {kernel} kernel accuracy: {accuracy_score(y_test, y_pred):.4f}\")\n"
   ]
  },
  {
   "cell_type": "code",
   "execution_count": 48,
   "id": "588e4d6d-4710-4b7b-a144-c9c8a2c3c25c",
   "metadata": {},
   "outputs": [
    {
     "name": "stdout",
     "output_type": "stream",
     "text": [
      "[[0 1 0 ... 0 0 0]\n",
      " [0 0 0 ... 0 0 0]\n",
      " [0 0 0 ... 0 0 0]\n",
      " ...\n",
      " [0 1 0 ... 0 0 0]\n",
      " [0 0 0 ... 0 0 0]\n",
      " [0 0 0 ... 0 0 0]]\n"
     ]
    }
   ],
   "source": [
    "print(X)"
   ]
  },
  {
   "cell_type": "code",
   "execution_count": 49,
   "id": "200efbe2-891f-4159-8173-64a40fc851a5",
   "metadata": {},
   "outputs": [
    {
     "name": "stdout",
     "output_type": "stream",
     "text": [
      "0     Great\n",
      "1      Fail\n",
      "2     Great\n",
      "3     Great\n",
      "4      Fail\n",
      "      ...  \n",
      "71    Great\n",
      "72     Fail\n",
      "73     Fail\n",
      "74     Fail\n",
      "75     Fail\n",
      "Name: label, Length: 76, dtype: string\n"
     ]
    }
   ],
   "source": [
    "print(y)"
   ]
  },
  {
   "cell_type": "code",
   "execution_count": null,
   "id": "653ac18b-b6ea-44f5-b87e-8e4d0294e3bf",
   "metadata": {},
   "outputs": [],
   "source": []
  }
 ],
 "metadata": {
  "kernelspec": {
   "display_name": "Python 3 (ipykernel)",
   "language": "python",
   "name": "python3"
  },
  "language_info": {
   "codemirror_mode": {
    "name": "ipython",
    "version": 3
   },
   "file_extension": ".py",
   "mimetype": "text/x-python",
   "name": "python",
   "nbconvert_exporter": "python",
   "pygments_lexer": "ipython3",
   "version": "3.11.7"
  }
 },
 "nbformat": 4,
 "nbformat_minor": 5
}
